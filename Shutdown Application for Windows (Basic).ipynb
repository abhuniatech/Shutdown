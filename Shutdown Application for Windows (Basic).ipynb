{
 "cells": [
  {
   "cell_type": "code",
   "execution_count": null,
   "id": "8f7cfc87-a962-40f7-a9d1-aada83d9f82a",
   "metadata": {},
   "outputs": [],
   "source": [
    "######## Shutdown Application for Windows (Basic)\n",
    "\n",
    "import os\n",
    "\n",
    "v = input(\"Enter the code\")\n",
    "# log out command\n",
    "if  v == \"l\":\n",
    "    os.system(\"shutdown -l\")\n",
    "# shutdown command    \n",
    "elif v == \"s\":\n",
    "    os.system(\"shutdown /s /t 0\")\n",
    "# restart command    \n",
    "elif v == \"r\":\n",
    "    os.system(\"shutdown /r /t 0\")\n",
    "else :\n",
    "    print(\"Error\")"
   ]
  },
  {
   "cell_type": "code",
   "execution_count": null,
   "id": "47362011-6f10-4795-a4cc-f4e07a98d3ee",
   "metadata": {},
   "outputs": [],
   "source": [
    "\n"
   ]
  }
 ],
 "metadata": {
  "kernelspec": {
   "display_name": "Python 3 (ipykernel)",
   "language": "python",
   "name": "python3"
  },
  "language_info": {
   "codemirror_mode": {
    "name": "ipython",
    "version": 3
   },
   "file_extension": ".py",
   "mimetype": "text/x-python",
   "name": "python",
   "nbconvert_exporter": "python",
   "pygments_lexer": "ipython3",
   "version": "3.10.7"
  }
 },
 "nbformat": 4,
 "nbformat_minor": 5
}
