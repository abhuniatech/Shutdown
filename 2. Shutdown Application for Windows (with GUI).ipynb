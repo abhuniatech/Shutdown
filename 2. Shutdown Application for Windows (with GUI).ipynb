{
 "cells": [
  {
   "cell_type": "code",
   "execution_count": 14,
   "id": "8f7cfc87-a962-40f7-a9d1-aada83d9f82a",
   "metadata": {},
   "outputs": [],
   "source": [
    "######## Shutdown Application for Windows\n",
    "\n",
    "\n",
    "from tkinter import * # used for GUI\n",
    "import os\n",
    "\n",
    "st = Tk()\n",
    "\n",
    "st.title(\"ShutDown Application\") # \n",
    "st.geometry(\"400x160\") # dimension\n",
    "st.config(bg=\"#0078D7\") # backgroud colour\n",
    "\n",
    "st.resizable(0,0) # disables the maximization button\n",
    "\n",
    "##### Defining  button functions\n",
    "def logout():\n",
    "    os.system(\"shutdown -l\")\n",
    "\n",
    "def shutdown():\n",
    "    os.system(\"shutdown /s /t 0\")\n",
    "    \n",
    "def restart():\n",
    "    os.system(\"shutdown /r /t 0\")\n",
    "    \n",
    "##### Creating buttons\n",
    "# log out\n",
    "log_out = Button(st, text=\"Log Out\", fg = \"White\", bg= \"#0078D7\", activeforeground = \"#0078D7\",\n",
    "                 activebackground=\"White\", command = logout)\n",
    "log_out.place(x=40, y=40, height=80, width = 80)\n",
    "\n",
    "# shut down\n",
    "shut_down = Button(st, text=\"Shut Down\", fg = \"White\", bg= \"#0078D7\", activeforeground = \"#0078D7\",\n",
    "                 activebackground=\"White\", command = shutdown)\n",
    "shut_down.place(x=160, y=40, height=80, width = 80)\n",
    "\n",
    "# restart button\n",
    "re_start = Button(st, text=\"Restart\", fg = \"White\", bg= \"#0078D7\", activeforeground = \"#0078D7\",\n",
    "                 activebackground=\"White\", command = restart)\n",
    "re_start.place(x=280, y=40, height=80, width = 80)\n",
    "\n",
    "# restart time\n",
    "#restart_time = Button(st, text=\"Restart Time\", fg = \"White\", bg= \"#0078D7\", activeforeground = \"#0078D7\",\n",
    "                 #activebackground=\"White\")\n",
    "#restart_time.place(x=425, y=50, height=100, width = 100)\n",
    "\n",
    "\n",
    "st.mainloop()"
   ]
  },
  {
   "cell_type": "code",
   "execution_count": null,
   "id": "47362011-6f10-4795-a4cc-f4e07a98d3ee",
   "metadata": {},
   "outputs": [],
   "source": [
    "\n"
   ]
  }
 ],
 "metadata": {
  "kernelspec": {
   "display_name": "Python 3 (ipykernel)",
   "language": "python",
   "name": "python3"
  },
  "language_info": {
   "codemirror_mode": {
    "name": "ipython",
    "version": 3
   },
   "file_extension": ".py",
   "mimetype": "text/x-python",
   "name": "python",
   "nbconvert_exporter": "python",
   "pygments_lexer": "ipython3",
   "version": "3.10.7"
  }
 },
 "nbformat": 4,
 "nbformat_minor": 5
}
